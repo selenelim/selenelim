{
 "cells": [
  {
   "cell_type": "markdown",
   "metadata": {},
   "source": [
    "#simple first code"
   ]
  },
  {
   "cell_type": "code",
   "execution_count": 1,
   "metadata": {},
   "outputs": [
    {
     "name": "stdout",
     "output_type": "stream",
     "text": [
      "Hi,student!\n",
      "Hi,!\n"
     ]
    }
   ],
   "source": [
    "student = input(\"Are you a student?(y/n)\" )\n",
    "if student.lower()== \"y\":\n",
    "    print(\"Hi,student!\")\n",
    "    name=input(\"whats ur name ? :\")\n",
    "    print(\"Hi,\"+name+\"!\")\n",
    "elif student.lower() == \"n\":\n",
    "    print(\"Go Away\")\n",
    "else:\n",
    "    print(\"cant u read???\")"
   ]
  },
  {
   "cell_type": "markdown",
   "metadata": {},
   "source": [
    "### hello"
   ]
  }
 ],
 "metadata": {
  "kernelspec": {
   "display_name": "Python 3",
   "language": "python",
   "name": "python3"
  },
  "language_info": {
   "codemirror_mode": {
    "name": "ipython",
    "version": 3
   },
   "file_extension": ".py",
   "mimetype": "text/x-python",
   "name": "python",
   "nbconvert_exporter": "python",
   "pygments_lexer": "ipython3",
   "version": "3.9.6"
  }
 },
 "nbformat": 4,
 "nbformat_minor": 2
}
